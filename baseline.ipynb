{
 "cells": [
  {
   "cell_type": "markdown",
   "metadata": {},
   "source": [
    "# Baseline model"
   ]
  },
  {
   "cell_type": "code",
   "execution_count": 1,
   "metadata": {},
   "outputs": [],
   "source": [
    "import pandas as pd\n",
    "import numpy as np"
   ]
  },
  {
   "cell_type": "markdown",
   "metadata": {},
   "source": [
    "## Load the data"
   ]
  },
  {
   "cell_type": "code",
   "execution_count": 2,
   "metadata": {},
   "outputs": [],
   "source": [
    "data_dir = \"./data/\"\n",
    "train = pd.read_csv(data_dir + \"train.csv\", index_col=\"id\")\n",
    "test = pd.read_csv(data_dir + \"test.csv\", index_col=\"id\")\n",
    "original = pd.read_csv(data_dir + \"cirrhosis.csv\", index_col=\"ID\")\n",
    "\n",
    "# add source column\n",
    "train[\"Source\"] = \"Competition\"\n",
    "test[\"Source\"]  = \"Competition\"\n",
    "original[\"Source\"] = \"Original\"\n",
    "# shift index to match other data\n",
    "original.index += test.index.max() \n",
    "# reorder columns\n",
    "original = original.reindex(train.columns, axis=1);"
   ]
  },
  {
   "cell_type": "code",
   "execution_count": 4,
   "metadata": {},
   "outputs": [],
   "source": [
    "# append original dataset\n",
    "train = pd.concat([train, original], axis=0, ignore_index = True);\n",
    "train.index = range(len(train));\n",
    "train.index.name = 'id';"
   ]
  },
  {
   "cell_type": "markdown",
   "metadata": {},
   "source": [
    "## Preprocess the data"
   ]
  },
  {
   "cell_type": "code",
   "execution_count": 5,
   "metadata": {},
   "outputs": [],
   "source": [
    "X_train = train.drop(columns=[\"Status\"])\n",
    "y_train = train[\"Status\"]\n",
    "X_test = test"
   ]
  },
  {
   "cell_type": "code",
   "execution_count": 6,
   "metadata": {},
   "outputs": [],
   "source": [
    "def process_features(df):\n",
    "    df = df.ffill().bfill()\n",
    "    df['Age_Yr'] = df['Age'] / 365\n",
    "    # encode categorical features\n",
    "    df['Drug'] = np.where(df['Drug'] == \"Placebo\", 0, 1).astype(np.uint8)\n",
    "    df['Sex'] = np.where(df['Sex'] == \"M\", 1, 0).astype(np.uint8)\n",
    "    df['Ascites'] = np.where(df['Ascites'] == \"N\", 1, 0).astype(np.uint8)\n",
    "    df['Hepatomegaly'] = np.where(df['Hepatomegaly'] == \"N\", 1, 0).astype(np.uint8)\n",
    "    df['Spiders'] = np.where(df['Spiders'] == \"N\", 1, 0).astype(np.uint8)\n",
    "    df['Edema'] = df['Edema'].map({\"N\": 0, \"S\": 1, \"Y\": 2}).astype(np.uint8)\n",
    "    df['Stage'] = df['Stage'].astype(np.uint8)\n",
    "    df['Stage'] = df['Stage'].fillna(1).astype(np.uint8)\n",
    "\n",
    "    df['Diseases']     = (df['Ascites'] + df['Hepatomegaly'] + df['Spiders'] + df['Edema'] + df['Drug']).astype(np.uint8)\n",
    "    # df['Age_Risk'] = np.where(df['Age_Yr'] >= 45, 1,0)\n",
    "    # df['Bilirubin_Risk'] = np.select([df.Bilirubin < 1.2, df.Bilirubin < 2], [0,1],2)\n",
    "    # df['Cholesterol_Risk'] = np.select([df.Cholesterol < 200, df.Cholesterol <= 239], [0,1], 2)\n",
    "    # df['Albumin_Risk'] = np.select([df.Albumin.between(3.4, 5.4, inclusive = \"left\"),df.Albumin < 3.4], [0,1], 2)\n",
    "    # df['Copper_Risk'] = np.select([df.Copper.between(62, 140, inclusive = \"left\"), df.Copper < 62], [0,1], 2)  \n",
    "    # df['Tryglicerides_Risk'] = np.select([df.Tryglicerides < 150, df.Tryglicerides < 200, df.Tryglicerides < 499], [0,1,2], 3)\n",
    "    # df['Platelets_Risk'] = np.select([df.Platelets.between(150, 450, inclusive = \"left\"),df.Platelets < 150], [0,1], 2)            \n",
    "    # df['Prothrombin_Risk'] = np.select([df.Prothrombin.between(11,13.5, inclusive = \"left\"),df.Prothrombin < 11], [0,1], 2)              \n",
    "    return df\n"
   ]
  },
  {
   "cell_type": "code",
   "execution_count": 7,
   "metadata": {},
   "outputs": [],
   "source": [
    " def _reduce_mem(df: pd.DataFrame):\n",
    "    \"This method reduces memory for numeric columns in the dataframe\";\n",
    "    \n",
    "    numerics = ['int16', 'int32', 'int64', 'float16', 'float32', 'float64']\n",
    "    start_mem = df.memory_usage().sum() / 1024**2;\n",
    "    \n",
    "    for col in df.columns:\n",
    "        col_type = df[col].dtypes\n",
    "        \n",
    "        if col_type in numerics:\n",
    "            c_min = df[col].min();\n",
    "            c_max = df[col].max();\n",
    "\n",
    "            if \"int\" in str(col_type):\n",
    "                if c_min >= np.iinfo(np.int8).min and c_max < np.iinfo(np.int8).max:\n",
    "                    df[col] = df[col].astype(np.int8)\n",
    "                elif c_min >= np.iinfo(np.int16).min and c_max < np.iinfo(np.int16).max:\n",
    "                    df[col] = df[col].astype(np.int16)\n",
    "                elif c_min >= np.iinfo(np.int32).min and c_max < np.iinfo(np.int32).max:\n",
    "                    df[col] = df[col].astype(np.int32)\n",
    "                elif c_min >= np.iinfo(np.int64).min and c_max < np.iinfo(np.int64).max:\n",
    "                    df[col] = df[col].astype(np.int64)  \n",
    "            else:\n",
    "                if c_min >= np.finfo(np.float16).min and c_max < np.finfo(np.float16).max:\n",
    "                    df[col] = df[col].astype(np.float16)\n",
    "                if c_min >= np.finfo(np.float32).min and c_max < np.finfo(np.float32).max:\n",
    "                    df[col] = df[col].astype(np.float32)\n",
    "                else:\n",
    "                    df[col] = df[col].astype(np.float64)  \n",
    "\n",
    "    end_mem = df.memory_usage().sum() / 1024**2\n",
    "\n",
    "    print(f\"Start - end memory:- {start_mem:5.2f} - {end_mem:5.2f} Mb\");\n",
    "    return df;"
   ]
  },
  {
   "cell_type": "code",
   "execution_count": 8,
   "metadata": {},
   "outputs": [
    {
     "name": "stdout",
     "output_type": "stream",
     "text": [
      "Start - end memory:-  0.89 -  0.48 Mb\n",
      "Start - end memory:-  0.60 -  0.34 Mb\n"
     ]
    }
   ],
   "source": [
    "X_train = process_features(X_train)\n",
    "X_test = process_features(X_test)\n",
    "X_train = _reduce_mem(X_train)\n",
    "X_test = _reduce_mem(X_test)\n"
   ]
  }
 ],
 "metadata": {
  "kernelspec": {
   "display_name": "base",
   "language": "python",
   "name": "python3"
  },
  "language_info": {
   "codemirror_mode": {
    "name": "ipython",
    "version": 3
   },
   "file_extension": ".py",
   "mimetype": "text/x-python",
   "name": "python",
   "nbconvert_exporter": "python",
   "pygments_lexer": "ipython3",
   "version": "3.10.12"
  }
 },
 "nbformat": 4,
 "nbformat_minor": 2
}
